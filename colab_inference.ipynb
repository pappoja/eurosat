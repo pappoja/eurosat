{
  "cells": [
    {
      "cell_type": "markdown",
      "metadata": {
        "id": "hjMXG4gaSMuE"
      },
      "source": [
        "### EuroSAT Classification"
      ]
    },
    {
      "cell_type": "markdown",
      "metadata": {
        "id": "1yWj5AIISRU4"
      },
      "source": [
        "Set Up"
      ]
    },
    {
      "cell_type": "code",
      "execution_count": null,
      "metadata": {
        "colab": {
          "base_uri": "https://localhost:8080/"
        },
        "id": "T7C_Pwo2LGUU",
        "outputId": "f85b843c-d37d-4d7f-ac59-eaa296fa1817"
      },
      "outputs": [],
      "source": [
        "from google.colab import drive\n",
        "drive.mount('/content/drive/')"
      ]
    },
    {
      "cell_type": "code",
      "execution_count": null,
      "metadata": {
        "colab": {
          "base_uri": "https://localhost:8080/"
        },
        "id": "grLBK11YLK6P",
        "outputId": "356755c9-ebba-4407-cc69-fc8514e3b7f6"
      },
      "outputs": [],
      "source": [
        "!git clone https://github.com/pappoja/eurosat.git"
      ]
    },
    {
      "cell_type": "code",
      "execution_count": null,
      "metadata": {
        "colab": {
          "base_uri": "https://localhost:8080/"
        },
        "id": "ULG2hmdrLRIu",
        "outputId": "3e90a72c-7f8b-42b0-82e1-b6f1797a515b"
      },
      "outputs": [],
      "source": [
        "%cd eurosat/src"
      ]
    },
    {
      "cell_type": "code",
      "execution_count": null,
      "metadata": {
        "id": "tfxNpg5yOq73"
      },
      "outputs": [],
      "source": [
        "%%capture\n",
        "!pip install rasterio"
      ]
    },
    {
      "cell_type": "markdown",
      "metadata": {
        "id": "hf_xwTGESmZw"
      },
      "source": [
        "Copy image files into Colab's working directory for quicker access"
      ]
    },
    {
      "cell_type": "code",
      "execution_count": null,
      "metadata": {
        "id": "zzJTQG7mPVxw"
      },
      "outputs": [],
      "source": [
        "!cp -r /content/drive/MyDrive/path/to/EuroSAT_MS /content/EuroSAT_MS"
      ]
    },
    {
      "cell_type": "markdown",
      "metadata": {
        "id": "eewVTDChSqgA"
      },
      "source": [
        "Train"
      ]
    },
    {
      "cell_type": "code",
      "execution_count": null,
      "metadata": {
        "colab": {
          "base_uri": "https://localhost:8080/"
        },
        "id": "xxAGvh4OOQhk",
        "outputId": "8a634854-656e-4ff4-c4e6-7c47a87e6751"
      },
      "outputs": [],
      "source": [
        "!python train.py -d ../data --image-dir \"/content/\" -m <model> --input <data> --n-epochs <n>"
      ]
    }
  ],
  "metadata": {
    "accelerator": "GPU",
    "colab": {
      "gpuType": "T4",
      "provenance": []
    },
    "kernelspec": {
      "display_name": "Python 3",
      "name": "python3"
    },
    "language_info": {
      "name": "python"
    }
  },
  "nbformat": 4,
  "nbformat_minor": 0
}
